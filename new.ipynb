{
 "cells": [
  {
   "cell_type": "code",
   "execution_count": 1,
   "metadata": {},
   "outputs": [
    {
     "name": "stdout",
     "output_type": "stream",
     "text": [
      "\u001b[96mif\u001b[0m\u001b[95m(\u001b[0m\u001b[96ma\u001b[0m\u001b[93m \u001b[0m\u001b[95m>\u001b[0m\u001b[93m \u001b[0m\u001b[94m10\u001b[0m\u001b[95m){\u001b[0m\u001b[93m\n",
      "    \u001b[0m\u001b[96ma\u001b[0m\u001b[93m \u001b[0m\u001b[95m=\u001b[0m\u001b[93m \u001b[0m\u001b[94m10\u001b[0m\u001b[93m\n",
      "\u001b[0m\u001b[95m}\u001b[0m\u001b[93m\n",
      "\u001b[0m\n"
     ]
    }
   ],
   "source": [
    "from helper import combine, show\n",
    "\n",
    "\n",
    "limit = '''if({{ variable }} {{ operator }} {{ limit }}){\n",
    "    {{ variable }} = {{ limit }}\n",
    "}\n",
    "'''\n",
    "show({\n",
    "    'main':limit,\n",
    "    'variable':'a',\n",
    "    'operator':'>',\n",
    "    'limit':'10',\n",
    "}); "
   ]
  },
  {
   "cell_type": "code",
   "execution_count": 20,
   "metadata": {},
   "outputs": [
    {
     "name": "stdout",
     "output_type": "stream",
     "text": [
      "\u001b[96medge\u001b[0m\u001b[93m \u001b[0m\u001b[95m=\u001b[0m\u001b[93m \u001b[0m\u001b[96ma\u001b[0m\u001b[95m[\u001b[0m\u001b[94m0\u001b[0m\u001b[95m]\u001b[0m\u001b[93m\n",
      "\u001b[0m\u001b[96mfor\u001b[0m\u001b[95m(\u001b[0m\u001b[96mlet\u001b[0m\u001b[93m \u001b[0m\u001b[96mi\u001b[0m\u001b[93m \u001b[0m\u001b[95m=\u001b[0m\u001b[93m \u001b[0m\u001b[94m1\u001b[0m\u001b[95m;\u001b[0m\u001b[93m \u001b[0m\u001b[96mi\u001b[0m\u001b[93m \u001b[0m\u001b[95m<\u001b[0m\u001b[93m \u001b[0m\u001b[96ma\u001b[0m\u001b[95m.\u001b[0m\u001b[96mlength\u001b[0m\u001b[95m;\u001b[0m\u001b[93m \u001b[0m\u001b[96mi\u001b[0m\u001b[95m++){\u001b[0m\u001b[93m\n",
      "    \u001b[0m\u001b[96mif\u001b[0m\u001b[95m(\u001b[0m\u001b[96ma\u001b[0m\u001b[95m[\u001b[0m\u001b[96mi\u001b[0m\u001b[95m]\u001b[0m\u001b[93m \u001b[0m\u001b[95m>\u001b[0m\u001b[93m \u001b[0m\u001b[96medge\u001b[0m\u001b[95m){\u001b[0m\u001b[93m\n",
      "        \u001b[0m\u001b[96medge\u001b[0m\u001b[93m \u001b[0m\u001b[95m=\u001b[0m\u001b[93m \u001b[0m\u001b[96ma\u001b[0m\u001b[95m[\u001b[0m\u001b[96mi\u001b[0m\u001b[95m]\u001b[0m\u001b[93m\n",
      "    \u001b[0m\u001b[95m}\u001b[0m\u001b[93m\n",
      "\u001b[0m\u001b[95m}\u001b[0m\n"
     ]
    }
   ],
   "source": [
    "\n",
    "from helper import combine, show\n",
    "edge = '''edge = {{ variable }}[0]\n",
    "for(let i = 1; i < {{ variable }}.length; i++){\n",
    "    if({{ variable }}[i] {{ operator }} edge){\n",
    "        edge = {{ variable }}[i]\n",
    "    }\n",
    "}'''\n",
    "\n",
    "show({\n",
    "    'main':edge,\n",
    "    'variable':'a',\n",
    "    'operator':'>',\n",
    "});"
   ]
  },
  {
   "cell_type": "code",
   "execution_count": 8,
   "metadata": {},
   "outputs": [
    {
     "name": "stdout",
     "output_type": "stream",
     "text": [
      "\u001b[93m\n",
      "\u001b[0m\u001b[96mfor\u001b[0m\u001b[95m(\u001b[0m\u001b[96mlet\u001b[0m\u001b[93m \u001b[0m\u001b[96mi\u001b[0m\u001b[93m \u001b[0m\u001b[95m=\u001b[0m\u001b[93m \u001b[0m\u001b[94m0\u001b[0m\u001b[95m;\u001b[0m\u001b[93m \u001b[0m\u001b[96mi\u001b[0m\u001b[93m \u001b[0m\u001b[95m<\u001b[0m\u001b[93m \u001b[0m\u001b[94m10\u001b[0m\u001b[95m;\u001b[0m\u001b[93m \u001b[0m\u001b[96mi\u001b[0m\u001b[95m++){\u001b[0m\u001b[93m\n",
      "    \u001b[0m\u001b[95m{{\u001b[0m\u001b[93m \u001b[0m\u001b[96mblock\u001b[0m\u001b[93m \u001b[0m\u001b[95m}}\u001b[0m\u001b[93m\n",
      "\u001b[0m\u001b[95m}\u001b[0m\u001b[93m\n",
      "\u001b[0m\n",
      "\u001b[93m\n",
      "\u001b[0m\u001b[96mfor\u001b[0m\u001b[95m(\u001b[0m\u001b[96mlet\u001b[0m\u001b[93m \u001b[0m\u001b[96mi\u001b[0m\u001b[93m \u001b[0m\u001b[95m=\u001b[0m\u001b[93m \u001b[0m\u001b[94m0\u001b[0m\u001b[95m;\u001b[0m\u001b[93m \u001b[0m\u001b[96mi\u001b[0m\u001b[93m \u001b[0m\u001b[95m<\u001b[0m\u001b[93m \u001b[0m\u001b[96ma\u001b[0m\u001b[95m.\u001b[0m\u001b[96mlength\u001b[0m\u001b[95m;\u001b[0m\u001b[93m \u001b[0m\u001b[96mi\u001b[0m\u001b[95m++){\u001b[0m\u001b[93m\n",
      "    \u001b[0m\u001b[95m{{\u001b[0m\u001b[93m \u001b[0m\u001b[96mblock\u001b[0m\u001b[93m \u001b[0m\u001b[95m}}\u001b[0m\u001b[93m\n",
      "\u001b[0m\u001b[95m}\u001b[0m\u001b[93m\n",
      "\u001b[0m\n",
      "\u001b[93m\n",
      "\u001b[0m\u001b[96mfor\u001b[0m\u001b[95m(\u001b[0m\u001b[96mlet\u001b[0m\u001b[93m \u001b[0m\u001b[96mi\u001b[0m\u001b[93m \u001b[0m\u001b[95m=\u001b[0m\u001b[93m \u001b[0m\u001b[94m0\u001b[0m\u001b[95m;\u001b[0m\u001b[93m \u001b[0m\u001b[96mj\u001b[0m\u001b[93m \u001b[0m\u001b[95m<\u001b[0m\u001b[93m \u001b[0m\u001b[96ma\u001b[0m\u001b[95m.\u001b[0m\u001b[96mlength\u001b[0m\u001b[95m;\u001b[0m\u001b[93m \u001b[0m\u001b[96mj\u001b[0m\u001b[95m++){\u001b[0m\u001b[93m\n",
      "    \n",
      "    \u001b[0m\u001b[96mfor\u001b[0m\u001b[95m(\u001b[0m\u001b[96mlet\u001b[0m\u001b[93m \u001b[0m\u001b[96mj\u001b[0m\u001b[93m \u001b[0m\u001b[95m=\u001b[0m\u001b[93m \u001b[0m\u001b[94m0\u001b[0m\u001b[95m;\u001b[0m\u001b[93m \u001b[0m\u001b[96mj\u001b[0m\u001b[93m \u001b[0m\u001b[95m<\u001b[0m\u001b[93m \u001b[0m\u001b[96ma\u001b[0m\u001b[95m[\u001b[0m\u001b[96mi\u001b[0m\u001b[95m].\u001b[0m\u001b[96mlength\u001b[0m\u001b[95m;\u001b[0m\u001b[93m \u001b[0m\u001b[96mj\u001b[0m\u001b[95m++){\u001b[0m\u001b[93m\n",
      "        \u001b[0m\u001b[96mconsole\u001b[0m\u001b[95m.\u001b[0m\u001b[96mlog\u001b[0m\u001b[95m(\u001b[0m\u001b[96ma\u001b[0m\u001b[95m[\u001b[0m\u001b[96mi\u001b[0m\u001b[95m][\u001b[0m\u001b[96mj\u001b[0m\u001b[95m])\u001b[0m\u001b[93m\n",
      "    \u001b[0m\u001b[95m}\u001b[0m\u001b[93m\n",
      "\n",
      "\u001b[0m\u001b[95m}\u001b[0m\u001b[93m\n",
      "\u001b[0m\n"
     ]
    }
   ],
   "source": [
    "\n",
    "from helper import combine, show\n",
    "\n",
    "_if = '''if({{ condition }}){\n",
    "    {{ block }}\n",
    "}'''\n",
    "\n",
    "_for = '''\n",
    "for(let {{ iterator }} = {{ start }}; {{ iterator }} < {{ end }}; {{ iterator }}++){\n",
    "    {{ block }}\n",
    "}\n",
    "'''\n",
    "show({\n",
    "    'main':_for,\n",
    "    'iterator':'i',\n",
    "    'start':'0',\n",
    "    'end':'10',\n",
    "})\n",
    "_foreach = combine({\n",
    "    'main':_for,\n",
    "    'start':'0', \n",
    "    'end':'{{ array }}.length'\n",
    "})\n",
    "\n",
    "show({\n",
    "    'main':_foreach,\n",
    "    'iterator':'i',\n",
    "    'array':'a',\n",
    "})\n",
    "\n",
    "show({\n",
    "    'main':_foreach,\n",
    "    'iterator':['i','j'],\n",
    "    'array':['a','a[i]'],\n",
    "    'block':[_foreach,'console.log(a[i][j])']\n",
    "})"
   ]
  }
 ],
 "metadata": {
  "kernelspec": {
   "display_name": "Python 3.10.2 64-bit",
   "language": "python",
   "name": "python3"
  },
  "language_info": {
   "codemirror_mode": {
    "name": "ipython",
    "version": 3
   },
   "file_extension": ".py",
   "mimetype": "text/x-python",
   "name": "python",
   "nbconvert_exporter": "python",
   "pygments_lexer": "ipython3",
   "version": "3.10.2"
  },
  "orig_nbformat": 4,
  "vscode": {
   "interpreter": {
    "hash": "4d581fef53bcc7b9121b723ffffee9bb3151d28f1d879cf512cef40db48bd410"
   }
  }
 },
 "nbformat": 4,
 "nbformat_minor": 2
}
