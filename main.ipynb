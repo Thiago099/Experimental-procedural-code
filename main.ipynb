{
 "cells": [
  {
   "cell_type": "code",
   "execution_count": 1,
   "metadata": {},
   "outputs": [
    {
     "name": "stdout",
     "output_type": "stream",
     "text": [
      "def bar(array):\n",
      "    for i in array:\n",
      "        for j in i:\n",
      "            print(j)\n"
     ]
    }
   ],
   "source": [
    "from helper import combine\n",
    "\n",
    "_code = '''{{ command }} {{ head }}:\n",
    "    {{ body }}'''\n",
    "\n",
    "\n",
    "_for = combine({\n",
    "    'main': _code,\n",
    "    'command': 'for',\n",
    "    'head': '{{ pointer }} in {{ collection }}',\n",
    "})\n",
    "\n",
    "_if = combine({\n",
    "    'main': _code,\n",
    "    'command': 'if',\n",
    "    'head': '{{ condition }}',\n",
    "})\n",
    "\n",
    "_else = combine({\n",
    "    'main': '''{{ command }}:\n",
    "    {{ body }}''',\n",
    "    'command': 'else',\n",
    "})\n",
    "\n",
    "\n",
    "_def = combine({\n",
    "    'main': _code,\n",
    "    'command': 'def',\n",
    "    'head': '{{ name }}({{ parameter }})'\n",
    "})\n",
    "\n",
    "_call = '{{ name }}({{ parameter }})'\n",
    "\n",
    "\n",
    "invoke = combine({\n",
    "    'main': _call,\n",
    "    'parameter': ''\n",
    "})\n",
    "\n",
    "_var = '{{ name }} = {{ value }}\\n'\n",
    "\n",
    "_write = combine({\n",
    "    'main': _call,\n",
    "    'name':'print',\n",
    "    'parameter':'{{ text }}'\n",
    "})\n",
    "\n",
    "\n",
    "\n",
    "def _import(imports):\n",
    "    result = ''\n",
    "    for i in imports:\n",
    "        if(type(i) is list):\n",
    "            parameters = {\n",
    "                'main': 'from {{ module }} import {{ component }}\\n',\n",
    "                'module': i[0],\n",
    "                'component': i[1]\n",
    "            }\n",
    "        else:\n",
    "            parameters = {\n",
    "                'main': 'import {{ module }}\\n',\n",
    "                'module': i\n",
    "            }\n",
    "        result += combine(parameters)\n",
    "    return result\n",
    "    \n",
    "def parameter(input, space = False):\n",
    "    result = ''\n",
    "    for i in input.keys():\n",
    "        result += combine({\n",
    "            'main': '{{ name }} = {{ value }}{{ space }}',\n",
    "            'name': i,\n",
    "            'value': input[i],\n",
    "            'space': ',\\n' if space else ', '\n",
    "        })\n",
    "    if(len(result) > 0):\n",
    "        result = result[:-2]\n",
    "    return result\n",
    "\n",
    "\n",
    "function = combine({\n",
    "    'main'         : _def,\n",
    "    'name'         : 'bar',\n",
    "    'parameter'    : 'array',\n",
    "    'body'         : [_for, _for, _write],\n",
    "    'collection'   : ['array', 'i'],\n",
    "    'pointer'      : ['i','j'],\n",
    "    'text'         : 'j'\n",
    "})\n",
    "\n",
    "print(function)\n",
    "\n"
   ]
  },
  {
   "cell_type": "code",
   "execution_count": 1,
   "metadata": {},
   "outputs": [
    {
     "name": "stdout",
     "output_type": "stream",
     "text": [
      "from module import a, b, c\n",
      "\n",
      "import { a, b, c } from \"module\";\n",
      "\n"
     ]
    }
   ],
   "source": [
    "from helper import combine\n",
    "\n",
    "_import = 'from {{ module }} import {{ objects }}\\n'\n",
    "_import_mjs = 'import { {{ objects }} } from \"{{ module }}\";\\n'\n",
    "\n",
    "module = 'module'\n",
    "objects = 'a, b, c'\n",
    "\n",
    "print(combine({\n",
    "    'main': _import,\n",
    "    'module': module,\n",
    "    'objects': objects\n",
    "}))\n",
    "\n",
    "print(combine({\n",
    "    'main': _import_mjs,\n",
    "    'module': module,\n",
    "    'objects': objects\n",
    "}))\n"
   ]
  }
 ],
 "metadata": {
  "interpreter": {
   "hash": "fa59fe217db4f43d2eced3bb2999c64a2dfb66f45d117ce205026a57497ab911"
  },
  "kernelspec": {
   "display_name": "Python 3.10.1 64-bit",
   "language": "python",
   "name": "python3"
  },
  "language_info": {
   "codemirror_mode": {
    "name": "ipython",
    "version": 3
   },
   "file_extension": ".py",
   "mimetype": "text/x-python",
   "name": "python",
   "nbconvert_exporter": "python",
   "pygments_lexer": "ipython3",
   "version": "3.10.2"
  },
  "orig_nbformat": 4
 },
 "nbformat": 4,
 "nbformat_minor": 2
}
